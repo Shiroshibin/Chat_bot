{
  "nbformat": 4,
  "nbformat_minor": 0,
  "metadata": {
    "colab": {
      "provenance": [],
      "toc_visible": true,
      "authorship_tag": "ABX9TyOdNSWrW/yzvR3xhaViSOoh",
      "include_colab_link": true
    },
    "kernelspec": {
      "name": "python3",
      "display_name": "Python 3"
    },
    "language_info": {
      "name": "python"
    }
  },
  "cells": [
    {
      "cell_type": "markdown",
      "metadata": {
        "id": "view-in-github",
        "colab_type": "text"
      },
      "source": [
        "<a href=\"https://colab.research.google.com/github/Shiroshibin/Chat_bot/blob/main/%D0%A7%D0%B0%D1%82_%D0%91%D0%BE%D1%82_Colab_1.ipynb\" target=\"_parent\"><img src=\"https://colab.research.google.com/assets/colab-badge.svg\" alt=\"Open In Colab\"/></a>"
      ]
    },
    {
      "cell_type": "markdown",
      "source": [
        "# Неговора Никита"
      ],
      "metadata": {
        "id": "uOa2bR_K_XKe"
      }
    },
    {
      "cell_type": "code",
      "execution_count": null,
      "metadata": {
        "id": "BaHCwKtm-AmJ"
      },
      "outputs": [],
      "source": []
    },
    {
      "cell_type": "code",
      "source": [
        "url = \"https://apply.innopolis.university/?lang=ru&id=12&site=s1&template=university24&landing_mode=edit\"\n",
        "main_page = requests.get(url)\n",
        "soup_main_page = BeautifulSoup(main_page.text)\n"
      ],
      "metadata": {
        "id": "UrUvHrtSR5yW"
      },
      "execution_count": null,
      "outputs": []
    },
    {
      "cell_type": "code",
      "source": [
        "card = soup_main_page.find_all(\"div\", class_ = \"three-card-slider-description-item__content\")\n"
      ],
      "metadata": {
        "id": "hlSwLMMaTy9f"
      },
      "execution_count": null,
      "outputs": []
    },
    {
      "cell_type": "markdown",
      "source": [
        "Почему имеено Инополис"
      ],
      "metadata": {
        "id": "KmRJs8PZp4QD"
      }
    },
    {
      "cell_type": "code",
      "source": [
        "for i in card:\n",
        "  card_title = i.find(\"h5\", class_ = \"three-card-slider-description-item-title\").text\n",
        "  card_text = i.find(\"p\", class_ = \"three-card-slider-description-item-text\").text\n",
        "  print(card_title, \"\\n\", card_text, \"\\n\")"
      ],
      "metadata": {
        "colab": {
          "base_uri": "https://localhost:8080/"
        },
        "id": "OzAZtTnUW2Fx",
        "outputId": "4e3b96bf-a98d-4b64-f844-92af3c2e300c"
      },
      "execution_count": null,
      "outputs": [
        {
          "output_type": "stream",
          "name": "stdout",
          "text": [
            "Гранты на обучение \n",
            " При прохождении отбора абитуриенты получают грант, который включает до 100% стоимости обучения и стипендию \n",
            "\n",
            "Преподаватели мирового уровня \n",
            " 152 профессора и научно-педагогических сотрудника из 15 стран с опытом работы в ведущих компаниях мировой ИТ-индустрии \n",
            "\n",
            "Международное сотрудничество \n",
            " Международные программы обмена и академические стажировки в зарубежных организациях и лабораториях \n",
            "\n",
            "Акцент на практику \n",
            " Более 40% учебной программы студенты уделяют практическим занятиям в форме командных проектов \n",
            "\n",
            "Современный кампус \n",
            " Студенты живут в комфортном кампусе, занятия проходят в\r\n",
            "                        лабораториях и аудиториях с современным оснащением, свободный\r\n",
            "                        доступ к Wi-Fi \n",
            "\n",
            "Стажировки и карьера в ведущих ИТ-компаниях \n",
            " Студенты проходят стажировки в компаниях-партнерах, а по окончании обучения начинают работать в них \n",
            "\n"
          ]
        }
      ]
    },
    {
      "cell_type": "code",
      "source": [
        "\n",
        "undergraduate = soup_main_page.find(\"div\", class_ = \"learning-program undergraduate\")\n",
        "program_name = undergraduate.find(\"h5\", class_ = \"learning-program-name\").text\n",
        "\n",
        "for i in undergraduate.find(\"div\", class_ = \"learning-program-description\"):\n",
        "  text_program = i.find(\"a\")\n",
        "  if type(i) != None:\n",
        "    print(text_program.text)"
      ],
      "metadata": {
        "colab": {
          "base_uri": "https://localhost:8080/",
          "height": 200
        },
        "id": "HoLE1V66bZh2",
        "outputId": "7d16dcf0-0c32-4cf1-bf6d-f47b7a21cd2c"
      },
      "execution_count": null,
      "outputs": [
        {
          "output_type": "error",
          "ename": "AttributeError",
          "evalue": "ignored",
          "traceback": [
            "\u001b[0;31m---------------------------------------------------------------------------\u001b[0m",
            "\u001b[0;31mAttributeError\u001b[0m                            Traceback (most recent call last)",
            "\u001b[0;32m<ipython-input-18-f340d8d5fa61>\u001b[0m in \u001b[0;36m<module>\u001b[0;34m\u001b[0m\n\u001b[1;32m      5\u001b[0m   \u001b[0mtext_program\u001b[0m \u001b[0;34m=\u001b[0m \u001b[0mi\u001b[0m\u001b[0;34m.\u001b[0m\u001b[0mfind\u001b[0m\u001b[0;34m(\u001b[0m\u001b[0;34m\"a\"\u001b[0m\u001b[0;34m)\u001b[0m\u001b[0;34m\u001b[0m\u001b[0;34m\u001b[0m\u001b[0m\n\u001b[1;32m      6\u001b[0m   \u001b[0;32mif\u001b[0m \u001b[0mtype\u001b[0m\u001b[0;34m(\u001b[0m\u001b[0mi\u001b[0m\u001b[0;34m)\u001b[0m \u001b[0;34m!=\u001b[0m \u001b[0;32mNone\u001b[0m\u001b[0;34m:\u001b[0m\u001b[0;34m\u001b[0m\u001b[0;34m\u001b[0m\u001b[0m\n\u001b[0;32m----> 7\u001b[0;31m     \u001b[0mprint\u001b[0m\u001b[0;34m(\u001b[0m\u001b[0mtext_program\u001b[0m\u001b[0;34m.\u001b[0m\u001b[0mtext\u001b[0m\u001b[0;34m)\u001b[0m\u001b[0;34m\u001b[0m\u001b[0;34m\u001b[0m\u001b[0m\n\u001b[0m",
            "\u001b[0;31mAttributeError\u001b[0m: 'NoneType' object has no attribute 'text'"
          ]
        }
      ]
    },
    {
      "cell_type": "code",
      "source": [],
      "metadata": {
        "id": "ndnLs11OgkUr"
      },
      "execution_count": null,
      "outputs": []
    },
    {
      "cell_type": "markdown",
      "source": [
        "## Бакалавриат"
      ],
      "metadata": {
        "id": "IIZg9Lntjk6G"
      }
    },
    {
      "cell_type": "code",
      "source": [
        "import requests\n",
        "from bs4 import BeautifulSoup"
      ],
      "metadata": {
        "id": "2QNturXqjryL"
      },
      "execution_count": null,
      "outputs": []
    },
    {
      "cell_type": "code",
      "source": [
        "url_undergraduate = \"https://apply.innopolis.university/bachelor/?lang=ru&id=12&site=s1&template=university24&landing_mode=edit\"\n",
        "main_page_undergraduate = requests.get(url_undergraduate)\n",
        "soup_main_page_undergraduate = BeautifulSoup(main_page_undergraduate.text)"
      ],
      "metadata": {
        "id": "on_la_t4j9Gy"
      },
      "execution_count": null,
      "outputs": []
    },
    {
      "cell_type": "code",
      "source": [
        "program_info_card = soup_main_page_undergraduate.find_all(\"div\", class_ = \"mainviewport-after-block__main-subtitle\")\n",
        "program_info_card"
      ],
      "metadata": {
        "colab": {
          "base_uri": "https://localhost:8080/"
        },
        "id": "eEHDLrBUkY45",
        "outputId": "79fdad88-d329-443c-f22c-38548b982682"
      },
      "execution_count": null,
      "outputs": [
        {
          "output_type": "execute_result",
          "data": {
            "text/plain": [
              "[<div class=\"mainviewport-after-block__main-subtitle\">Программа разработана совместно с мировыми экспертами в сфере информатики, робототехники и программной инженерии с опытом работы в топ-100 вузов мира в партнерстве с компаниями IT‑индустрии. Мы создали учебную программу, которая с первого дня учебы позволяет студентам развивать ключевые компетенции и навыки работы в реальных условиях</div>]"
            ]
          },
          "metadata": {},
          "execution_count": 117
        }
      ]
    },
    {
      "cell_type": "code",
      "source": [
        "training_profile = soup_main_page_undergraduate.find_all(\"div\", class_ = \"uni-org-main__block\")\n",
        "for i in training_profile:\n",
        "  training_profile_title = i.find(\"h3\", class_ = \"block__title\").text\n",
        "  training_profile_subtitle = i.find(\"p\", class_ = \"block__subtitle\").text\n",
        "  print(training_profile_title, \"\\n\",  training_profile_subtitle)"
      ],
      "metadata": {
        "colab": {
          "base_uri": "https://localhost:8080/"
        },
        "id": "-IxDL9PowQnv",
        "outputId": "1a40a49a-8f07-460c-c0a5-424145855b73"
      },
      "execution_count": null,
      "outputs": [
        {
          "output_type": "stream",
          "name": "stdout",
          "text": [
            "Инженерия информационных систем \n",
            " Профиль для тех, кто увлечен программированием, хочет заниматься разработкой софта или компьютерной безопасностью. Позволяет получить знания в области компьютерных наук и математики, необходимые для дальнейшего обучения и развития в ИТ.\n",
            "анализ данных и искусственный интеллект \n",
            " Профиль поможет получить базовые знания для понимания принципа работы, совершенствования и применения технологий ИИ в построении программных продуктов.\n"
          ]
        }
      ]
    },
    {
      "cell_type": "code",
      "source": [
        "learning_structure = soup_main_page_undergraduate.find(\"div\", class_ = \"learning-programs-wrap\")\n",
        "\n",
        "structure_a = learning_structure.find(\"div\", class_ = \"learning-program top-right\")\n",
        "structure_a_title = structure_a.find(\"h5\").text\n",
        "structure_a_text = structure_a.find(\"div\", class_ = \"learning-program-description\").text\n",
        "\n",
        "structure_b = learning_structure.find(\"div\", class_ = \"learning-program bottom-left\")\n",
        "structure_b_title = structure_b.find(\"h5\", class_ = \"learning-program-name\").text\n",
        "structure_b_text = structure_b.find(\"div\", class_ = \"learning-program-description\").text\n",
        "\n",
        "structure_c = learning_structure.find(\"div\", class_ = \"learning-program bottom-right\")\n",
        "structure_c_title = structure_c.find(\"h5\").text\n",
        "structure_c_text = structure_c.find(\"div\", class_ = \"learning-program-description\").text\n",
        "structure_c_text"
      ],
      "metadata": {
        "colab": {
          "base_uri": "https://localhost:8080/",
          "height": 70
        },
        "id": "MVqRCbmMzuey",
        "outputId": "93223dd9-3dc6-493f-b82e-e1a22ddc1b9c"
      },
      "execution_count": null,
      "outputs": [
        {
          "output_type": "execute_result",
          "data": {
            "text/plain": [
              "'Практико-ориентированный бакалавриат — это уникальная особенность Иннополиса. Получив знания за три года формального обучения, ты проведешь целый год в индустрии. IT — это прикладная сфера, навыки решают все. Наша задача сделать тебя сильным специалистом, который сможет принести пользу и быть востребованным в индустрии.'"
            ],
            "application/vnd.google.colaboratory.intrinsic+json": {
              "type": "string"
            }
          },
          "metadata": {},
          "execution_count": 109
        }
      ]
    },
    {
      "cell_type": "code",
      "source": [],
      "metadata": {
        "id": "-ViNUUkr2P6o"
      },
      "execution_count": null,
      "outputs": []
    },
    {
      "cell_type": "code",
      "source": [
        "reception_company = soup_main_page_undergraduate.find(\"div\", class_ = \"container\").find_all(\"div\", class_ = \"row-info-block__item\")\n",
        "for i in reception_company:\n",
        "  print(i.text)"
      ],
      "metadata": {
        "id": "zaHqM1zw8Y14"
      },
      "execution_count": null,
      "outputs": []
    },
    {
      "cell_type": "code",
      "source": [
        "admission = soup_main_page_undergraduate.find(\"div\", class_ = \"three-cards__wrap container\").find_all(\"div\", class_ = \"three-cards__main\")\n",
        "for i in admission:\n",
        "  print(i.text)"
      ],
      "metadata": {
        "colab": {
          "base_uri": "https://localhost:8080/"
        },
        "id": "5wSvQQI7EMLS",
        "outputId": "dad766a4-be62-482c-86ce-5ac4fb709511"
      },
      "execution_count": null,
      "outputs": [
        {
          "output_type": "stream",
          "name": "stdout",
          "text": [
            "\n",
            "01\n",
            "\n",
            "подать заявку на отбор\n",
            "Подайте заявку на нашем сайте: заполните анкету, прикрепите портфолио и пройдите онлайн-тесты на проверку IT-навыков и знания английского языка в личном кабинете абитуриента\n",
            "Подать заявку\n",
            "\n",
            "02\n",
            "\n",
            "ПРОЙТИ отбор\n",
            "При положительном результате рассмотрения заявки мы пригласим вас на отбор. \r\n",
            "В программе: оценка IT-навыков и знания английского языка, собеседование с профессорами на английском языке, оценка личностных качеств.\n",
            "Подать заявку\n",
            "\n",
            "03\n",
            "\n",
            "получить Грант на обучение\n",
            "При успешном прохождении отбора вы получите грант на обучение. Для зачисления нужно успешно сдать ЕГЭ по математике, информатике (или физике) и русскому языку.  \n",
            "Подать заявку\n",
            "\n"
          ]
        }
      ]
    },
    {
      "cell_type": "markdown",
      "source": [
        "# Никлюдов Виталий"
      ],
      "metadata": {
        "id": "QhJKiH2z_fDi"
      }
    },
    {
      "cell_type": "code",
      "execution_count": null,
      "metadata": {
        "id": "BOJPfdFOvcFd"
      },
      "outputs": [],
      "source": [
        "import requests\n",
        "from bs4 import BeautifulSoup as BS\n"
      ]
    },
    {
      "cell_type": "code",
      "source": [
        "url = 'https://apply.innopolis.university'"
      ],
      "metadata": {
        "id": "BtaDBMi8vip-"
      },
      "execution_count": null,
      "outputs": []
    },
    {
      "cell_type": "code",
      "source": [
        "req = requests.get(url)"
      ],
      "metadata": {
        "id": "U0QCQHKhv1IT"
      },
      "execution_count": null,
      "outputs": []
    },
    {
      "cell_type": "code",
      "source": [
        "soup = BS(req.text)"
      ],
      "metadata": {
        "id": "HLZxnfHJv9LP"
      },
      "execution_count": null,
      "outputs": []
    },
    {
      "cell_type": "markdown",
      "source": [
        "город иннополис\n",
        "\n"
      ],
      "metadata": {
        "id": "ZnVwqpFu4kvK"
      }
    },
    {
      "cell_type": "code",
      "source": [
        "city = soup.find('div', 'campus-info__inno-city')"
      ],
      "metadata": {
        "id": "NeyLuAptwEGm"
      },
      "execution_count": null,
      "outputs": []
    },
    {
      "cell_type": "code",
      "source": [
        "city_title = city.find('h2')\n",
        "city_text = city.find('p')"
      ],
      "metadata": {
        "id": "BhrTofewwe_k"
      },
      "execution_count": null,
      "outputs": []
    },
    {
      "cell_type": "markdown",
      "source": [
        "кампус\n",
        "\n"
      ],
      "metadata": {
        "id": "_v1xunqj4hKC"
      }
    },
    {
      "cell_type": "code",
      "source": [
        "campus = soup.find('div', 'campus-info-entrants-left')"
      ],
      "metadata": {
        "id": "eIATW05BwvVM"
      },
      "execution_count": null,
      "outputs": []
    },
    {
      "cell_type": "code",
      "source": [
        "campus_title_bad = campus.find('h2')"
      ],
      "metadata": {
        "id": "w9ewrYywxewk"
      },
      "execution_count": null,
      "outputs": []
    },
    {
      "cell_type": "code",
      "source": [
        "campus_text = campus.find('p')"
      ],
      "metadata": {
        "id": "0Q1YkZ5lynmS"
      },
      "execution_count": null,
      "outputs": []
    },
    {
      "cell_type": "code",
      "source": [
        "campus_title = []\n",
        "for i in campus_title_bad.stripped_strings:\n",
        "    campus_title.append(i)\n",
        "   "
      ],
      "metadata": {
        "id": "J28qNxq1y5MK"
      },
      "execution_count": null,
      "outputs": []
    },
    {
      "cell_type": "markdown",
      "source": [
        "студенческая жизнь"
      ],
      "metadata": {
        "id": "pR-OctFnvRr6"
      }
    },
    {
      "cell_type": "code",
      "source": [
        "student = soup.find('div', 'campus-info__student-life')\n",
        "student_title = student.find('h2')\n",
        "student_text = student.find('p')"
      ],
      "metadata": {
        "id": "6j7UprhtvVYD"
      },
      "execution_count": null,
      "outputs": []
    },
    {
      "cell_type": "markdown",
      "source": [
        "программы подготовки"
      ],
      "metadata": {
        "id": "EBNpDFZs4oyK"
      }
    },
    {
      "cell_type": "code",
      "source": [
        "url = 'https://apply.innopolis.university/master/'\n",
        "req = requests.get(url)\n",
        "soup = BS(req.text)"
      ],
      "metadata": {
        "id": "YbGpIiLA4DhE"
      },
      "execution_count": null,
      "outputs": []
    },
    {
      "cell_type": "code",
      "source": [
        "all = soup.find('div', 'uni-org-main__blocks-wrap')"
      ],
      "metadata": {
        "id": "bCCjDPO75Psx"
      },
      "execution_count": null,
      "outputs": []
    },
    {
      "cell_type": "code",
      "source": [
        "a = []\n",
        "for i in all:\n",
        "    print(i.text)\n"
      ],
      "metadata": {
        "id": "_m8eYF7d6Zdx"
      },
      "execution_count": null,
      "outputs": []
    },
    {
      "cell_type": "markdown",
      "source": [
        "как поступить"
      ],
      "metadata": {
        "id": "ezKi51t-8YWD"
      }
    },
    {
      "cell_type": "code",
      "source": [
        "all = soup.find('div', 'three-cards__main')"
      ],
      "metadata": {
        "id": "PDWNH1-L8acn"
      },
      "execution_count": null,
      "outputs": []
    },
    {
      "cell_type": "code",
      "source": [
        "for i in all:\n",
        "    print(i.text)"
      ],
      "metadata": {
        "id": "8lQ-bE758hyM",
        "colab": {
          "base_uri": "https://localhost:8080/"
        },
        "outputId": "d97a3a46-0737-411e-bd57-ed92619de40e"
      },
      "execution_count": null,
      "outputs": [
        {
          "output_type": "stream",
          "name": "stdout",
          "text": [
            "\n",
            "Программная инженерия\n",
            "Программа для ИТ-специалистов с опытом работы в индустрии. Обучение позволит вырасти технически, научиться эффективно работать в команде и расширить понимание всех аспектов разработки. \r\n",
            "Язык обучения – английский.  \n",
            "\n",
            "Узнать подробнее \n",
            "\n",
            "\n",
            "Инженерия Безопасности систем и сетей \n",
            "Программа позволит сконцентрироваться на изучении концепций и принципов в области компьютерной безопасности и сетевой инженерии, применить полученные знания на практике, столкнуться с задачами, которые позволят подготовить к реальным ситуациям в индустрии.\r\n",
            "Язык обучения – английский.  \n",
            "\n",
            "Узнать подробнее \n",
            "\n",
            "\n",
            "Искусственный интеллект и Инженерия данных\n",
            "Основная цель программы – обучить студентов современным технологиям искусственного интеллекта и различным аспектам работы с данными. Для тех, кто хочет заниматься исследованиями в области машинного обучения и разработкой систем, использующих анализ данных и технологии ИИ. \r\n",
            "Язык обучения – английский.  \n",
            "\n",
            "Узнать подробнее \n",
            "\n",
            "\n",
            "Робототехника и компьютерное зрение\n",
            "Программа основана на лучших мировых практиках в  робототехнике. Обучение сделает профессионалом в области мехатроники, управления, прототипирования. Научит решать сложные технические задачи в сфере беспилотных систем и промышленной робототехники.Язык обучения – русский.\n",
            "\n",
            "Узнать подробнее \n",
            "\n",
            "\n",
            "Информационное Технологическое предпринимательство\n",
            "Программа рассчитана на фаундеров, готовых начать бизнес сразу во время обучения. Можно защитить стартап как диплом, создать готовый жизнеспособный продукт и официально работать на себя в статусе предпринимателя. \r\n",
            "Язык обучения – английский.  \n",
            "\n",
            "Узнать подробнее \n",
            "\n"
          ]
        }
      ]
    },
    {
      "cell_type": "markdown",
      "source": [
        "контакты"
      ],
      "metadata": {
        "id": "ZfXXchvy8vbT"
      }
    },
    {
      "cell_type": "code",
      "source": [
        "all = soup.find('div', 'contacts__requisites')"
      ],
      "metadata": {
        "id": "M2HnpZZA9AKV"
      },
      "execution_count": null,
      "outputs": []
    },
    {
      "cell_type": "code",
      "source": [
        "title = all.find('h2')\n",
        "working = all.find('div', 'contacts__who')\n",
        "phone = all.find('div', 'contacts__phone')\n",
        "mail = all.find('a')\n",
        "adres = all.find('div', 'contacts__address').find('p')\n"
      ],
      "metadata": {
        "id": "DdHTqZQE9GiM"
      },
      "execution_count": null,
      "outputs": []
    },
    {
      "cell_type": "code",
      "source": [
        "print(title.text)\n",
        "print(working.text)\n",
        "print(phone.text)\n",
        "print(mail.text)\n",
        "print(adres.text)"
      ],
      "metadata": {
        "colab": {
          "base_uri": "https://localhost:8080/"
        },
        "id": "Gkbb1T749t_a",
        "outputId": "56dc6fb8-acfb-4c01-ff1b-74d93d31acbc"
      },
      "execution_count": null,
      "outputs": [
        {
          "output_type": "stream",
          "name": "stdout",
          "text": [
            "Контакты\n",
            "Режим работы:  пн-пт 9:00-18:00 (время московское)\n",
            "+7 (843) 203‑92‑53, доб. 191\n",
            "admissions@innopolis.ru\n",
            "420500, г. Иннополис, ул.Университетская, д.1\n"
          ]
        }
      ]
    },
    {
      "cell_type": "code",
      "source": [
        "url = \"https://apply.innopolis.university/\"\n",
        "req = requests.get(url)\n",
        "soup = BS(req.text)"
      ],
      "metadata": {
        "id": "CTc_rqdptaCD"
      },
      "execution_count": null,
      "outputs": []
    },
    {
      "cell_type": "code",
      "source": [
        "bug = soup.find('div', 'learning-programs')"
      ],
      "metadata": {
        "id": "e9xCWCRRtxDK"
      },
      "execution_count": null,
      "outputs": []
    }
  ]
}